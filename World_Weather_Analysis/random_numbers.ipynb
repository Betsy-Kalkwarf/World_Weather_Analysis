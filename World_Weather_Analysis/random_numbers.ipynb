{
 "cells": [
  {
   "cell_type": "code",
   "execution_count": 2,
   "id": "2744b347",
   "metadata": {},
   "outputs": [],
   "source": [
    "# Import the random module.\n",
    "import random"
   ]
  },
  {
   "cell_type": "code",
   "execution_count": 13,
   "id": "f50abfe2",
   "metadata": {},
   "outputs": [
    {
     "data": {
      "text/plain": [
       "62"
      ]
     },
     "execution_count": 13,
     "metadata": {},
     "output_type": "execute_result"
    }
   ],
   "source": [
    "random.randint(-90, 90)"
   ]
  },
  {
   "cell_type": "code",
   "execution_count": 23,
   "id": "5cb4347f",
   "metadata": {},
   "outputs": [
    {
     "data": {
      "text/plain": [
       "0.9671496781483144"
      ]
     },
     "execution_count": 23,
     "metadata": {},
     "output_type": "execute_result"
    }
   ],
   "source": [
    "random.random()"
   ]
  },
  {
   "cell_type": "code",
   "execution_count": 25,
   "id": "b93bd684",
   "metadata": {},
   "outputs": [],
   "source": [
    "x = 1\n",
    "latitudes = []\n",
    "while x < 11:\n",
    "    random_lat = random.randint(-90, 89) + random.random()\n",
    "    latitudes.append(random_lat)\n",
    "    x += 1"
   ]
  },
  {
   "cell_type": "code",
   "execution_count": 39,
   "id": "5f1305aa",
   "metadata": {},
   "outputs": [
    {
     "data": {
      "text/plain": [
       "45"
      ]
     },
     "execution_count": 39,
     "metadata": {},
     "output_type": "execute_result"
    }
   ],
   "source": [
    "random.randrange(-90, 90, step=3)"
   ]
  },
  {
   "cell_type": "code",
   "execution_count": 53,
   "id": "4c4eef01",
   "metadata": {},
   "outputs": [
    {
     "data": {
      "text/plain": [
       "-170.42916979725055"
      ]
     },
     "execution_count": 53,
     "metadata": {},
     "output_type": "execute_result"
    }
   ],
   "source": [
    "random.uniform(-180, 180)"
   ]
  },
  {
   "cell_type": "code",
   "execution_count": 54,
   "id": "e8a793b9",
   "metadata": {},
   "outputs": [],
   "source": [
    "# Import the NumPy module.\n",
    "import numpy as np"
   ]
  },
  {
   "cell_type": "code",
   "execution_count": 60,
   "id": "a71f3786",
   "metadata": {},
   "outputs": [
    {
     "data": {
      "text/plain": [
       "52.79771431878413"
      ]
     },
     "execution_count": 60,
     "metadata": {},
     "output_type": "execute_result"
    }
   ],
   "source": [
    "np.random.uniform(-90.000, 90.000)"
   ]
  },
  {
   "cell_type": "code",
   "execution_count": 62,
   "id": "afd6d33e",
   "metadata": {},
   "outputs": [
    {
     "data": {
      "text/plain": [
       "array([ 69.85443139,  10.89494551,  -9.73576462, -59.08738922,\n",
       "       -43.28419762,  77.52044511, -23.56388231, -65.41973823,\n",
       "       -88.45335388, -23.26188821, -27.54032955,  -7.81189965,\n",
       "       -42.51704265,   8.73352075,  -5.92449642,  84.46430818,\n",
       "        58.53377017, -69.27663117,  10.05047786,  77.85838644,\n",
       "       -40.8798555 ,  14.59010884,  84.49110105,  -2.87342681,\n",
       "        26.70714292,  66.15059444,  -8.97265629,  35.5972441 ,\n",
       "        18.37391896, -55.93930246,  83.15698049,  39.46950298,\n",
       "        23.29660237,  14.46477473, -49.26203539,  71.18814214,\n",
       "       -12.09437271,  39.67107862,  19.17693973,  77.43166839,\n",
       "       -83.27631926, -35.08928479, -74.92884995,  57.11164486,\n",
       "        80.48087213,  83.25417711, -50.46166694,   2.15434943,\n",
       "       -34.09177499, -73.43195727])"
      ]
     },
     "execution_count": 62,
     "metadata": {},
     "output_type": "execute_result"
    }
   ],
   "source": [
    "np.random.uniform(-90.000, 90.000, size=50)"
   ]
  },
  {
   "cell_type": "code",
   "execution_count": 63,
   "id": "3d65068d",
   "metadata": {},
   "outputs": [],
   "source": [
    "# Import timeit.\n",
    "import timeit"
   ]
  },
  {
   "cell_type": "code",
   "execution_count": 65,
   "id": "deee718a",
   "metadata": {},
   "outputs": [
    {
     "name": "stdout",
     "output_type": "stream",
     "text": [
      "19.5 µs ± 1.12 µs per loop (mean ± std. dev. of 7 runs, 100,000 loops each)\n"
     ]
    }
   ],
   "source": [
    "%timeit np.random.uniform(-90.000, 90.000, size=1500)"
   ]
  },
  {
   "cell_type": "code",
   "execution_count": 66,
   "id": "480a98e9",
   "metadata": {},
   "outputs": [
    {
     "name": "stdout",
     "output_type": "stream",
     "text": [
      "1.94 ms ± 107 µs per loop (mean ± std. dev. of 7 runs, 100 loops each)\n"
     ]
    }
   ],
   "source": [
    "def latitudes(size):\n",
    "    latitudes = []\n",
    "    x = 0\n",
    "    while x < (size):\n",
    "        random_lat = random.randint(-90, 90) + random.random()\n",
    "        latitudes.append(random_lat)\n",
    "        x += 1\n",
    "    return latitudes\n",
    "# Call the function with 1500.\n",
    "%timeit latitudes(1500)"
   ]
  },
  {
   "cell_type": "code",
   "execution_count": 71,
   "id": "41dd17f8",
   "metadata": {},
   "outputs": [],
   "source": [
    "\n",
    "for i in range (0, 1500):\n",
    "    np.random.uniform(-90.000, 90.000)\n",
    "    %timeit\n"
   ]
  }
 ],
 "metadata": {
  "kernelspec": {
   "display_name": "PythonDaa",
   "language": "python",
   "name": "pythondaa"
  },
  "language_info": {
   "codemirror_mode": {
    "name": "ipython",
    "version": 3
   },
   "file_extension": ".py",
   "mimetype": "text/x-python",
   "name": "python",
   "nbconvert_exporter": "python",
   "pygments_lexer": "ipython3",
   "version": "3.9.12"
  }
 },
 "nbformat": 4,
 "nbformat_minor": 5
}
